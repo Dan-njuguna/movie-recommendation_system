{
 "cells": [
  {
   "cell_type": "code",
   "execution_count": null,
   "metadata": {},
   "outputs": [
    {
     "data": {
      "application/vnd.microsoft.datawrangler.viewer.v0+json": {
       "columns": [
        {
         "name": "index",
         "rawType": "int64",
         "type": "integer"
        },
        {
         "name": "userId",
         "rawType": "int64",
         "type": "integer"
        },
        {
         "name": "movieId",
         "rawType": "int64",
         "type": "integer"
        },
        {
         "name": "rating",
         "rawType": "float64",
         "type": "float"
        },
        {
         "name": "title",
         "rawType": "object",
         "type": "string"
        },
        {
         "name": "genres",
         "rawType": "object",
         "type": "string"
        }
       ],
       "conversionMethod": "pd.DataFrame",
       "ref": "c9cff539-4306-4bec-ae0a-1dd2a9bb6212",
       "rows": [
        [
         "0",
         "1",
         "1",
         "4.0",
         "Toy Story (1995)",
         "Adventure|Animation|Children|Comedy|Fantasy"
        ],
        [
         "1",
         "1",
         "3",
         "4.0",
         "Grumpier Old Men (1995)",
         "Comedy|Romance"
        ],
        [
         "2",
         "1",
         "6",
         "4.0",
         "Heat (1995)",
         "Action|Crime|Thriller"
        ],
        [
         "3",
         "1",
         "47",
         "5.0",
         "Seven (a.k.a. Se7en) (1995)",
         "Mystery|Thriller"
        ],
        [
         "4",
         "1",
         "50",
         "5.0",
         "Usual Suspects, The (1995)",
         "Crime|Mystery|Thriller"
        ]
       ],
       "shape": {
        "columns": 5,
        "rows": 5
       }
      },
      "text/html": [
       "<div>\n",
       "<style scoped>\n",
       "    .dataframe tbody tr th:only-of-type {\n",
       "        vertical-align: middle;\n",
       "    }\n",
       "\n",
       "    .dataframe tbody tr th {\n",
       "        vertical-align: top;\n",
       "    }\n",
       "\n",
       "    .dataframe thead th {\n",
       "        text-align: right;\n",
       "    }\n",
       "</style>\n",
       "<table border=\"1\" class=\"dataframe\">\n",
       "  <thead>\n",
       "    <tr style=\"text-align: right;\">\n",
       "      <th></th>\n",
       "      <th>userId</th>\n",
       "      <th>movieId</th>\n",
       "      <th>rating</th>\n",
       "      <th>title</th>\n",
       "      <th>genres</th>\n",
       "    </tr>\n",
       "  </thead>\n",
       "  <tbody>\n",
       "    <tr>\n",
       "      <th>0</th>\n",
       "      <td>1</td>\n",
       "      <td>1</td>\n",
       "      <td>4.0</td>\n",
       "      <td>Toy Story (1995)</td>\n",
       "      <td>Adventure|Animation|Children|Comedy|Fantasy</td>\n",
       "    </tr>\n",
       "    <tr>\n",
       "      <th>1</th>\n",
       "      <td>1</td>\n",
       "      <td>3</td>\n",
       "      <td>4.0</td>\n",
       "      <td>Grumpier Old Men (1995)</td>\n",
       "      <td>Comedy|Romance</td>\n",
       "    </tr>\n",
       "    <tr>\n",
       "      <th>2</th>\n",
       "      <td>1</td>\n",
       "      <td>6</td>\n",
       "      <td>4.0</td>\n",
       "      <td>Heat (1995)</td>\n",
       "      <td>Action|Crime|Thriller</td>\n",
       "    </tr>\n",
       "    <tr>\n",
       "      <th>3</th>\n",
       "      <td>1</td>\n",
       "      <td>47</td>\n",
       "      <td>5.0</td>\n",
       "      <td>Seven (a.k.a. Se7en) (1995)</td>\n",
       "      <td>Mystery|Thriller</td>\n",
       "    </tr>\n",
       "    <tr>\n",
       "      <th>4</th>\n",
       "      <td>1</td>\n",
       "      <td>50</td>\n",
       "      <td>5.0</td>\n",
       "      <td>Usual Suspects, The (1995)</td>\n",
       "      <td>Crime|Mystery|Thriller</td>\n",
       "    </tr>\n",
       "  </tbody>\n",
       "</table>\n",
       "</div>"
      ],
      "text/plain": [
       "   userId  movieId  rating                        title  \\\n",
       "0       1        1     4.0             Toy Story (1995)   \n",
       "1       1        3     4.0      Grumpier Old Men (1995)   \n",
       "2       1        6     4.0                  Heat (1995)   \n",
       "3       1       47     5.0  Seven (a.k.a. Se7en) (1995)   \n",
       "4       1       50     5.0   Usual Suspects, The (1995)   \n",
       "\n",
       "                                        genres  \n",
       "0  Adventure|Animation|Children|Comedy|Fantasy  \n",
       "1                               Comedy|Romance  \n",
       "2                        Action|Crime|Thriller  \n",
       "3                             Mystery|Thriller  \n",
       "4                       Crime|Mystery|Thriller  "
      ]
     },
     "execution_count": 4,
     "metadata": {},
     "output_type": "execute_result"
    }
   ],
   "source": [
    "import pandas as pd\n",
    "import os\n",
    "\n",
    "DEFAULT_DATASET = os.path.join(\"..\", \"data\", \"ratings.csv\")\n",
    "movies = pd.read_csv(f\"{os.path.dirname(DEFAULT_DATASET)}/movies.csv\", usecols=['movieId', 'title', 'genres'])\n",
    "ratings = pd.read_csv(DEFAULT_DATASET, usecols=['userId', 'movieId', 'rating'])\n",
    "\n",
    "dataset = ratings.merge(movies, on='movieId')\n",
    "dataset.head()"
   ]
  },
  {
   "cell_type": "code",
   "execution_count": 5,
   "metadata": {},
   "outputs": [
    {
     "data": {
      "application/vnd.microsoft.datawrangler.viewer.v0+json": {
       "columns": [
        {
         "name": "index",
         "rawType": "int64",
         "type": "integer"
        },
        {
         "name": "userId",
         "rawType": "int64",
         "type": "integer"
        },
        {
         "name": "movieId",
         "rawType": "int64",
         "type": "integer"
        },
        {
         "name": "rating",
         "rawType": "float64",
         "type": "float"
        },
        {
         "name": "title",
         "rawType": "object",
         "type": "string"
        }
       ],
       "conversionMethod": "pd.DataFrame",
       "ref": "ee811180-9802-4643-8d73-6c6f5aa1eb46",
       "rows": [
        [
         "1119",
         "10",
         "296",
         "1.0",
         "Pulp Fiction (1994)"
        ],
        [
         "1120",
         "10",
         "356",
         "3.5",
         "Forrest Gump (1994)"
        ],
        [
         "1121",
         "10",
         "588",
         "4.0",
         "Aladdin (1992)"
        ],
        [
         "1122",
         "10",
         "597",
         "3.5",
         "Pretty Woman (1990)"
        ],
        [
         "1123",
         "10",
         "912",
         "4.0",
         "Casablanca (1942)"
        ],
        [
         "1124",
         "10",
         "1028",
         "0.5",
         "Mary Poppins (1964)"
        ],
        [
         "1125",
         "10",
         "1088",
         "3.0",
         "Dirty Dancing (1987)"
        ],
        [
         "1126",
         "10",
         "1247",
         "3.0",
         "Graduate, The (1967)"
        ],
        [
         "1127",
         "10",
         "1307",
         "3.0",
         "When Harry Met Sally... (1989)"
        ],
        [
         "1128",
         "10",
         "1784",
         "3.5",
         "As Good as It Gets (1997)"
        ]
       ],
       "shape": {
        "columns": 4,
        "rows": 10
       }
      },
      "text/html": [
       "<div>\n",
       "<style scoped>\n",
       "    .dataframe tbody tr th:only-of-type {\n",
       "        vertical-align: middle;\n",
       "    }\n",
       "\n",
       "    .dataframe tbody tr th {\n",
       "        vertical-align: top;\n",
       "    }\n",
       "\n",
       "    .dataframe thead th {\n",
       "        text-align: right;\n",
       "    }\n",
       "</style>\n",
       "<table border=\"1\" class=\"dataframe\">\n",
       "  <thead>\n",
       "    <tr style=\"text-align: right;\">\n",
       "      <th></th>\n",
       "      <th>userId</th>\n",
       "      <th>movieId</th>\n",
       "      <th>rating</th>\n",
       "      <th>title</th>\n",
       "    </tr>\n",
       "  </thead>\n",
       "  <tbody>\n",
       "    <tr>\n",
       "      <th>1119</th>\n",
       "      <td>10</td>\n",
       "      <td>296</td>\n",
       "      <td>1.0</td>\n",
       "      <td>Pulp Fiction (1994)</td>\n",
       "    </tr>\n",
       "    <tr>\n",
       "      <th>1120</th>\n",
       "      <td>10</td>\n",
       "      <td>356</td>\n",
       "      <td>3.5</td>\n",
       "      <td>Forrest Gump (1994)</td>\n",
       "    </tr>\n",
       "    <tr>\n",
       "      <th>1121</th>\n",
       "      <td>10</td>\n",
       "      <td>588</td>\n",
       "      <td>4.0</td>\n",
       "      <td>Aladdin (1992)</td>\n",
       "    </tr>\n",
       "    <tr>\n",
       "      <th>1122</th>\n",
       "      <td>10</td>\n",
       "      <td>597</td>\n",
       "      <td>3.5</td>\n",
       "      <td>Pretty Woman (1990)</td>\n",
       "    </tr>\n",
       "    <tr>\n",
       "      <th>1123</th>\n",
       "      <td>10</td>\n",
       "      <td>912</td>\n",
       "      <td>4.0</td>\n",
       "      <td>Casablanca (1942)</td>\n",
       "    </tr>\n",
       "    <tr>\n",
       "      <th>1124</th>\n",
       "      <td>10</td>\n",
       "      <td>1028</td>\n",
       "      <td>0.5</td>\n",
       "      <td>Mary Poppins (1964)</td>\n",
       "    </tr>\n",
       "    <tr>\n",
       "      <th>1125</th>\n",
       "      <td>10</td>\n",
       "      <td>1088</td>\n",
       "      <td>3.0</td>\n",
       "      <td>Dirty Dancing (1987)</td>\n",
       "    </tr>\n",
       "    <tr>\n",
       "      <th>1126</th>\n",
       "      <td>10</td>\n",
       "      <td>1247</td>\n",
       "      <td>3.0</td>\n",
       "      <td>Graduate, The (1967)</td>\n",
       "    </tr>\n",
       "    <tr>\n",
       "      <th>1127</th>\n",
       "      <td>10</td>\n",
       "      <td>1307</td>\n",
       "      <td>3.0</td>\n",
       "      <td>When Harry Met Sally... (1989)</td>\n",
       "    </tr>\n",
       "    <tr>\n",
       "      <th>1128</th>\n",
       "      <td>10</td>\n",
       "      <td>1784</td>\n",
       "      <td>3.5</td>\n",
       "      <td>As Good as It Gets (1997)</td>\n",
       "    </tr>\n",
       "  </tbody>\n",
       "</table>\n",
       "</div>"
      ],
      "text/plain": [
       "      userId  movieId  rating                           title\n",
       "1119      10      296     1.0             Pulp Fiction (1994)\n",
       "1120      10      356     3.5             Forrest Gump (1994)\n",
       "1121      10      588     4.0                  Aladdin (1992)\n",
       "1122      10      597     3.5             Pretty Woman (1990)\n",
       "1123      10      912     4.0               Casablanca (1942)\n",
       "1124      10     1028     0.5             Mary Poppins (1964)\n",
       "1125      10     1088     3.0            Dirty Dancing (1987)\n",
       "1126      10     1247     3.0            Graduate, The (1967)\n",
       "1127      10     1307     3.0  When Harry Met Sally... (1989)\n",
       "1128      10     1784     3.5       As Good as It Gets (1997)"
      ]
     },
     "execution_count": 5,
     "metadata": {},
     "output_type": "execute_result"
    }
   ],
   "source": [
    "dataset.loc[dataset['userId'] == 10, ['userId', 'movieId', 'rating', 'title']].head(10)"
   ]
  },
  {
   "cell_type": "code",
   "execution_count": null,
   "metadata": {},
   "outputs": [],
   "source": []
  }
 ],
 "metadata": {
  "kernelspec": {
   "display_name": "nrec",
   "language": "python",
   "name": "python3"
  },
  "language_info": {
   "codemirror_mode": {
    "name": "ipython",
    "version": 3
   },
   "file_extension": ".py",
   "mimetype": "text/x-python",
   "name": "python",
   "nbconvert_exporter": "python",
   "pygments_lexer": "ipython3",
   "version": "3.11.11"
  }
 },
 "nbformat": 4,
 "nbformat_minor": 2
}
